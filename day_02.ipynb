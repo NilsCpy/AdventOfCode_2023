{
 "cells": [
  {
   "cell_type": "code",
   "execution_count": 28,
   "id": "036a8391",
   "metadata": {},
   "outputs": [],
   "source": [
    "data = open('data/day_02.txt', 'r').read()"
   ]
  },
  {
   "cell_type": "code",
   "execution_count": null,
   "id": "4a1849b4",
   "metadata": {},
   "outputs": [],
   "source": [
    "def step_1(line):\n",
    "    for part in line.split(':')[1].split(';'):\n",
    "        for selection in part.split(','):\n",
    "\n",
    "            # Blue\n",
    "            if selection[-1] == 'e':\n",
    "                if int(selection[:3]) > 14:\n",
    "                    return 0\n",
    "            # Red\n",
    "            if selection[-1] == 'd':\n",
    "                if int(selection[:3]) > 12:\n",
    "                    return 0\n",
    "            # Green\n",
    "            if selection[-1] == 'n':\n",
    "                if int(selection[:3]) > 13:\n",
    "                    return 0\n",
    "\n",
    "    return int(''.join([char for char in line.split(':')[0] if char.isdigit()]))"
   ]
  },
  {
   "cell_type": "code",
   "execution_count": 30,
   "id": "859f7fb8",
   "metadata": {},
   "outputs": [
    {
     "data": {
      "text/plain": [
       "1734"
      ]
     },
     "execution_count": 30,
     "metadata": {},
     "output_type": "execute_result"
    }
   ],
   "source": [
    "sum([step_1(line) for line in data.split('\\n')[:-1]])"
   ]
  },
  {
   "cell_type": "code",
   "execution_count": null,
   "id": "a6a4fc00",
   "metadata": {},
   "outputs": [],
   "source": [
    "def step_2(line):\n",
    "    max_b, max_r, max_g = 1, 1, 1\n",
    "\n",
    "    for part in line.split(':')[1].split(';'):\n",
    "        for selection in part.split(','):\n",
    "\n",
    "            # Blue\n",
    "            if selection[-1] == 'e':\n",
    "                max_b = max(max_b, int(selection[:3]))\n",
    "            # Red\n",
    "            if selection[-1] == 'd':\n",
    "                max_r = max(max_r, int(selection[:3]))\n",
    "            # Green\n",
    "            if selection[-1] == 'n':\n",
    "                max_g = max(max_g, int(selection[:3]))\n",
    "\n",
    "    return max_b*max_r*max_g"
   ]
  },
  {
   "cell_type": "code",
   "execution_count": 32,
   "id": "b4d35a57",
   "metadata": {},
   "outputs": [
    {
     "data": {
      "text/plain": [
       "70387"
      ]
     },
     "execution_count": 32,
     "metadata": {},
     "output_type": "execute_result"
    }
   ],
   "source": [
    "sum([step_2(line) for line in data.split('\\n')[:-1]])"
   ]
  }
 ],
 "metadata": {
  "kernelspec": {
   "display_name": "global_env",
   "language": "python",
   "name": "python3"
  },
  "language_info": {
   "codemirror_mode": {
    "name": "ipython",
    "version": 3
   },
   "file_extension": ".py",
   "mimetype": "text/x-python",
   "name": "python",
   "nbconvert_exporter": "python",
   "pygments_lexer": "ipython3",
   "version": "3.10.6"
  }
 },
 "nbformat": 4,
 "nbformat_minor": 5
}
