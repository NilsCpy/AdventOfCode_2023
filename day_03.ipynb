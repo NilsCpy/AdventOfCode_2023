{
 "cells": [
  {
   "cell_type": "code",
   "execution_count": 25,
   "id": "80cec75b",
   "metadata": {},
   "outputs": [],
   "source": [
    "import numpy as np"
   ]
  },
  {
   "cell_type": "code",
   "execution_count": 26,
   "id": "de521e49",
   "metadata": {},
   "outputs": [],
   "source": [
    "data = open('data/day_03.txt', 'r').read()"
   ]
  },
  {
   "cell_type": "code",
   "execution_count": 27,
   "id": "66793494",
   "metadata": {},
   "outputs": [],
   "source": [
    "symbols = list(set(list(data))-set(['1', '2', '3', '4', '5', '6', '7', '8', '9', '0', '.', '\\n']))"
   ]
  },
  {
   "cell_type": "code",
   "execution_count": 72,
   "id": "eeebd643",
   "metadata": {},
   "outputs": [],
   "source": [
    "data_test = \"\"\"467..114..\n",
    "...*......\n",
    "..35..633.\n",
    "......#...\n",
    "617*......\n",
    ".....+.58.\n",
    "..592.....\n",
    "......755.\n",
    "...$.*....\n",
    ".664.598..\"\"\""
   ]
  },
  {
   "cell_type": "code",
   "execution_count": 73,
   "id": "e2734089",
   "metadata": {},
   "outputs": [
    {
     "data": {
      "text/plain": [
       "array([['4', '6', '7', '.', '.', '1', '1', '4', '.', '.'],\n",
       "       ['.', '.', '.', '*', '.', '.', '.', '.', '.', '.'],\n",
       "       ['.', '.', '3', '5', '.', '.', '6', '3', '3', '.'],\n",
       "       ['.', '.', '.', '.', '.', '.', '#', '.', '.', '.'],\n",
       "       ['6', '1', '7', '*', '.', '.', '.', '.', '.', '.'],\n",
       "       ['.', '.', '.', '.', '.', '+', '.', '5', '8', '.'],\n",
       "       ['.', '.', '5', '9', '2', '.', '.', '.', '.', '.'],\n",
       "       ['.', '.', '.', '.', '.', '.', '7', '5', '5', '.'],\n",
       "       ['.', '.', '.', '$', '.', '*', '.', '.', '.', '.'],\n",
       "       ['.', '6', '6', '4', '.', '5', '9', '8', '.', '.']], dtype='<U1')"
      ]
     },
     "execution_count": 73,
     "metadata": {},
     "output_type": "execute_result"
    }
   ],
   "source": [
    "arr_test = np.array([list(elem) for elem in data_test.split('\\n')])\n",
    "arr_test"
   ]
  },
  {
   "cell_type": "code",
   "execution_count": null,
   "id": "3edf2202",
   "metadata": {},
   "outputs": [],
   "source": [
    "def get_valid_pos(grid):\n",
    "    size_max = len(grid)\n",
    "\n",
    "    # Toutes les positions qui ont un symbole\n",
    "    symbol_pos = np.argwhere(np.isin(grid, symbols))\n",
    "\n",
    "    # Tous les voisins de ses positions\n",
    "    neighs = []\n",
    "    for pos in symbol_pos:\n",
    "        x, y = pos\n",
    "        neighs += [(i, j) for i in range(max(0, x-1), min(size_max, x+1)+1) for j in range(max(0, y-1), min(size_max, y+1)+1)]\n",
    "\n",
    "    # On enlève les doublons\n",
    "    return list(set(neighs))"
   ]
  },
  {
   "cell_type": "code",
   "execution_count": 112,
   "id": "0dc1d47b",
   "metadata": {},
   "outputs": [],
   "source": [
    "valid_pos = get_valid_pos(arr_test)"
   ]
  },
  {
   "cell_type": "code",
   "execution_count": null,
   "id": "3ce34eba",
   "metadata": {},
   "outputs": [],
   "source": [
    "def numbers_valid(grid, valid_pos):\n",
    "\n",
    "    numb_valids = []\n",
    "    for x, y in valid_pos:\n",
    "        if grid[x, y].isdigit():\n",
    "            numb_valids.append((x, y))\n",
    "\n",
    "\n",
    "\n",
    "    return numb_valids"
   ]
  },
  {
   "cell_type": "code",
   "execution_count": 117,
   "id": "ce0775b2",
   "metadata": {},
   "outputs": [],
   "source": [
    "val_numb = numbers_valid(arr_test, valid_pos)"
   ]
  },
  {
   "cell_type": "code",
   "execution_count": null,
   "id": "23c86bc0",
   "metadata": {},
   "outputs": [],
   "source": [
    "def get_valid_neighs(grid, valid_numbs):\n",
    "    valid_numbs_bis = valid_numbs.copy()\n",
    "    for x, y in valid_numbs:\n",
    "        # prev\n",
    "        if y != 0:\n",
    "            if grid[x, y-1].isdigit():\n",
    "                valid_numbs_bis.append((x, y-1))\n",
    "        # next\n",
    "        if y != len(grid)-1:\n",
    "            if grid[x, y+1].isdigit():\n",
    "                valid_numbs_bis.append((x, y+1))\n",
    "    return valid_numbs_bis\n"
   ]
  },
  {
   "cell_type": "code",
   "execution_count": 146,
   "id": "67707685",
   "metadata": {},
   "outputs": [
    {
     "data": {
      "text/plain": [
       "[(9, 2),\n",
       " (9, 5),\n",
       " (0, 2),\n",
       " (2, 2),\n",
       " (4, 2),\n",
       " (2, 7),\n",
       " (6, 4),\n",
       " (7, 6),\n",
       " (9, 3),\n",
       " (9, 6),\n",
       " (2, 3),\n",
       " (2, 6),\n",
       " (9, 1),\n",
       " (9, 3),\n",
       " (9, 6),\n",
       " (0, 1),\n",
       " (2, 3),\n",
       " (4, 1),\n",
       " (2, 6),\n",
       " (2, 8),\n",
       " (6, 3),\n",
       " (7, 7),\n",
       " (9, 2),\n",
       " (9, 5),\n",
       " (9, 7),\n",
       " (2, 2),\n",
       " (2, 7)]"
      ]
     },
     "execution_count": 146,
     "metadata": {},
     "output_type": "execute_result"
    }
   ],
   "source": [
    "get_valid_neighs(arr_test, val_numb)"
   ]
  },
  {
   "cell_type": "code",
   "execution_count": 143,
   "id": "6e57ed2a",
   "metadata": {},
   "outputs": [
    {
     "data": {
      "text/plain": [
       "[(9, 2),\n",
       " (9, 5),\n",
       " (0, 2),\n",
       " (2, 2),\n",
       " (4, 2),\n",
       " (2, 7),\n",
       " (6, 4),\n",
       " (7, 6),\n",
       " (9, 3),\n",
       " (9, 6),\n",
       " (2, 3),\n",
       " (2, 6)]"
      ]
     },
     "execution_count": 143,
     "metadata": {},
     "output_type": "execute_result"
    }
   ],
   "source": [
    "val_numb"
   ]
  },
  {
   "cell_type": "code",
   "execution_count": 144,
   "id": "a03cfc75",
   "metadata": {},
   "outputs": [
    {
     "data": {
      "text/plain": [
       "array([['4', '6', '7', '.', '.', '1', '1', '4', '.', '.'],\n",
       "       ['.', '.', '.', '*', '.', '.', '.', '.', '.', '.'],\n",
       "       ['.', '.', '3', '5', '.', '.', '6', '3', '3', '.'],\n",
       "       ['.', '.', '.', '.', '.', '.', '#', '.', '.', '.'],\n",
       "       ['6', '1', '7', '*', '.', '.', '.', '.', '.', '.'],\n",
       "       ['.', '.', '.', '.', '.', '+', '.', '5', '8', '.'],\n",
       "       ['.', '.', '5', '9', '2', '.', '.', '.', '.', '.'],\n",
       "       ['.', '.', '.', '.', '.', '.', '7', '5', '5', '.'],\n",
       "       ['.', '.', '.', '$', '.', '*', '.', '.', '.', '.'],\n",
       "       ['.', '6', '6', '4', '.', '5', '9', '8', '.', '.']], dtype='<U1')"
      ]
     },
     "execution_count": 144,
     "metadata": {},
     "output_type": "execute_result"
    }
   ],
   "source": [
    "arr_test"
   ]
  },
  {
   "cell_type": "code",
   "execution_count": null,
   "id": "656ba6eb",
   "metadata": {},
   "outputs": [],
   "source": []
  }
 ],
 "metadata": {
  "kernelspec": {
   "display_name": "global_env",
   "language": "python",
   "name": "python3"
  },
  "language_info": {
   "codemirror_mode": {
    "name": "ipython",
    "version": 3
   },
   "file_extension": ".py",
   "mimetype": "text/x-python",
   "name": "python",
   "nbconvert_exporter": "python",
   "pygments_lexer": "ipython3",
   "version": "3.10.6"
  }
 },
 "nbformat": 4,
 "nbformat_minor": 5
}
