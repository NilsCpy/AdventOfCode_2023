{
 "cells": [
  {
   "cell_type": "code",
   "execution_count": 138,
   "id": "80cec75b",
   "metadata": {},
   "outputs": [],
   "source": [
    "import numpy as np"
   ]
  },
  {
   "cell_type": "code",
   "execution_count": 139,
   "id": "de521e49",
   "metadata": {},
   "outputs": [],
   "source": [
    "data = open('data/day_03.txt', 'r').read()"
   ]
  },
  {
   "cell_type": "code",
   "execution_count": 140,
   "id": "66793494",
   "metadata": {},
   "outputs": [],
   "source": [
    "symbols = list(set(list(data))-set(['1', '2', '3', '4', '5', '6', '7', '8', '9', '0', '.', '\\n']))"
   ]
  },
  {
   "cell_type": "code",
   "execution_count": 141,
   "id": "3edf2202",
   "metadata": {},
   "outputs": [],
   "source": [
    "def get_valid_pos(grid):\n",
    "    size_max = len(grid)\n",
    "\n",
    "    # Toutes les positions qui ont un symbole\n",
    "    symbol_pos = np.argwhere(np.isin(grid, symbols))\n",
    "\n",
    "    # Tous les voisins de ses positions\n",
    "    neighs = []\n",
    "    for pos in symbol_pos:\n",
    "        x, y = pos\n",
    "        neighs += [(i, j) for i in range(max(0, x-1), min(size_max, x+1)+1) for j in range(max(0, y-1), min(size_max, y+1)+1)]\n",
    "\n",
    "    # On enlève les doublons\n",
    "    return list(set(neighs))"
   ]
  },
  {
   "cell_type": "code",
   "execution_count": 142,
   "id": "3ce34eba",
   "metadata": {},
   "outputs": [],
   "source": [
    "def numbers_valid(grid, valid_pos):\n",
    "\n",
    "    numb_valids = []\n",
    "    for x, y in valid_pos:\n",
    "        if grid[x, y].isdigit():\n",
    "            numb_valids.append((x, y))\n",
    "\n",
    "    return numb_valids"
   ]
  },
  {
   "cell_type": "code",
   "execution_count": 143,
   "id": "23c86bc0",
   "metadata": {},
   "outputs": [],
   "source": [
    "def get_valid_neighs(grid, valid_numbs):\n",
    "    valid_numbs_bis = valid_numbs.copy()\n",
    "\n",
    "    for _ in range(2):\n",
    "        valid_numbs = valid_numbs_bis.copy()\n",
    "        for x, y in valid_numbs:\n",
    "            # prev\n",
    "            if y != 0:\n",
    "                if grid[x, y-1].isdigit():\n",
    "                    valid_numbs_bis.append((x, y-1))\n",
    "            # next\n",
    "            if y != len(grid)-1:\n",
    "                if grid[x, y+1].isdigit():\n",
    "                    valid_numbs_bis.append((x, y+1))\n",
    "\n",
    "    return sorted(list(set(valid_numbs_bis)))\n"
   ]
  },
  {
   "cell_type": "code",
   "execution_count": 144,
   "id": "99b94c1a",
   "metadata": {},
   "outputs": [],
   "source": [
    "def get_sum(grid, valids):\n",
    "    calc = \"\"\n",
    "    for idx, (x, y) in enumerate(valids):\n",
    "        if idx == 0:\n",
    "            calc += str(grid[x, y])\n",
    "        else:\n",
    "            if (x == valids[idx-1][0]) and (y == valids[idx-1][1]+1):\n",
    "                calc += str(grid[x, y])\n",
    "            else:\n",
    "                calc += \"+\" + str(grid[x, y])\n",
    "    return sum([int(elem) for elem in calc.split('+')])"
   ]
  },
  {
   "cell_type": "code",
   "execution_count": 145,
   "id": "ee21809b",
   "metadata": {},
   "outputs": [],
   "source": [
    "def step_1(grid):\n",
    "    arr = np.array([list(elem) for elem in grid.split('\\n')][:-1])\n",
    "    valid_pos = get_valid_pos(arr)\n",
    "    val_numb = numbers_valid(arr, valid_pos)\n",
    "    valid_neighs = get_valid_neighs(arr, val_numb)\n",
    "    return get_sum(arr, valid_neighs)"
   ]
  },
  {
   "cell_type": "code",
   "execution_count": 146,
   "id": "a3b396c9",
   "metadata": {},
   "outputs": [
    {
     "data": {
      "text/plain": [
       "532331"
      ]
     },
     "execution_count": 146,
     "metadata": {},
     "output_type": "execute_result"
    }
   ],
   "source": [
    "step_1(data)"
   ]
  },
  {
   "cell_type": "code",
   "execution_count": 147,
   "id": "56a6e3fb",
   "metadata": {},
   "outputs": [],
   "source": [
    "def get_valid_pos_by_star(grid):\n",
    "    size_max = len(grid)\n",
    "\n",
    "    # Toutes les positions qui ont un symbole\n",
    "    symbol_pos = np.argwhere(grid == '*')\n",
    "\n",
    "    # Création du dico d'étoiles\n",
    "    dico_pos = {}\n",
    "    for x, y in symbol_pos:\n",
    "        dico_pos[(x, y)] = []\n",
    "\n",
    "    # Alimentation du dico\n",
    "    for pos in dico_pos.keys():\n",
    "        x, y = pos\n",
    "        dico_pos[pos] = [(i, j) for i in range(max(0, x-1), min(size_max, x+1)+1) for j in range(max(0, y-1), min(size_max, y+1)+1)]\n",
    "\n",
    "    return dico_pos"
   ]
  },
  {
   "cell_type": "code",
   "execution_count": 148,
   "id": "be7b2a38",
   "metadata": {},
   "outputs": [],
   "source": [
    "def numbers_valid_by_star(grid, valid_pos):\n",
    "\n",
    "    for key in valid_pos.keys():\n",
    "        valids = [pos for pos in valid_pos[key] if grid[pos].isdigit()]\n",
    "        valid_pos[key] = valids\n",
    "\n",
    "    return valid_pos"
   ]
  },
  {
   "cell_type": "code",
   "execution_count": 149,
   "id": "d8b7c7c6",
   "metadata": {},
   "outputs": [],
   "source": [
    "def get_valid_neighs_by_star(grid, valid_numbs):\n",
    "    valid_numbs_bis = valid_numbs.copy()\n",
    "\n",
    "    for _ in range(2):\n",
    "        valid_numbs = valid_numbs_bis.copy()\n",
    "        for x, y in valid_numbs:\n",
    "            # prev\n",
    "            if y != 0:\n",
    "                if grid[x, y-1].isdigit():\n",
    "                    valid_numbs_bis.append((x, y-1))\n",
    "            # next\n",
    "            if y != len(grid)-1:\n",
    "                if grid[x, y+1].isdigit():\n",
    "                    valid_numbs_bis.append((x, y+1))\n",
    "\n",
    "    return sorted(list(set(valid_numbs_bis)))"
   ]
  },
  {
   "cell_type": "code",
   "execution_count": 150,
   "id": "8a522b3e",
   "metadata": {},
   "outputs": [],
   "source": [
    "def get_valid_neighs_by_star(valid_numbs):\n",
    "\n",
    "    for key in valid_numbs.keys():\n",
    "        cleaned_neighs = []\n",
    "        checked = []\n",
    "        for x, y in valid_numbs[key]:\n",
    "            if not( ((x, y-1) in checked) or ((x, y+1) in checked) ):\n",
    "                cleaned_neighs.append((x, y))\n",
    "            checked.append((x, y))\n",
    "        valid_numbs[key] = cleaned_neighs\n",
    "\n",
    "    return valid_numbs"
   ]
  },
  {
   "cell_type": "code",
   "execution_count": 151,
   "id": "39431b70",
   "metadata": {},
   "outputs": [],
   "source": [
    "def get_numbers(grid, cleaned_dico):\n",
    "\n",
    "    for key in cleaned_dico.keys():\n",
    "        numbers = []\n",
    "        for x, y in cleaned_dico[key]:\n",
    "            num_str = str(grid[x, y])\n",
    "            if y != 0:\n",
    "                if grid[x, y-1].isdigit():\n",
    "                    num_str = str(grid[x, y-1]) + num_str\n",
    "                    if y > 1:\n",
    "                        if grid[x, y-2].isdigit():\n",
    "                            num_str = str(grid[x, y-2]) + num_str\n",
    "            if y != len(grid)-1:\n",
    "                if grid[x, y+1].isdigit():\n",
    "                    num_str = num_str + str(grid[x, y+1])\n",
    "                    if y < len(grid)-2:\n",
    "                        if grid[x, y+2].isdigit():\n",
    "                            num_str = num_str + str(grid[x, y+2])\n",
    "            numbers.append(int(num_str))\n",
    "        cleaned_dico[key] = numbers\n",
    "\n",
    "    return cleaned_dico\n"
   ]
  },
  {
   "cell_type": "code",
   "execution_count": 152,
   "id": "5af48c73",
   "metadata": {},
   "outputs": [],
   "source": [
    "def get_sum_by_star(cleaned_dico):\n",
    "    return sum([cleaned_dico[key][0] * cleaned_dico[key][1] for key in cleaned_dico.keys() if len(cleaned_dico[key]) == 2])"
   ]
  },
  {
   "cell_type": "code",
   "execution_count": 153,
   "id": "87ec4c65",
   "metadata": {},
   "outputs": [],
   "source": [
    "def step_2(grid):\n",
    "    arr = np.array([list(elem) for elem in grid.split('\\n')][:-1])\n",
    "    valid_pos = get_valid_pos_by_star(arr)\n",
    "    valid_nums = numbers_valid_by_star(arr, valid_pos)\n",
    "    valid_neighs = get_valid_neighs_by_star(valid_nums)\n",
    "    numbers = get_numbers(arr, valid_neighs)\n",
    "    return get_sum_by_star(numbers)"
   ]
  },
  {
   "cell_type": "code",
   "execution_count": 154,
   "id": "866b1364",
   "metadata": {},
   "outputs": [
    {
     "data": {
      "text/plain": [
       "82301120"
      ]
     },
     "execution_count": 154,
     "metadata": {},
     "output_type": "execute_result"
    }
   ],
   "source": [
    "step_2(data)"
   ]
  }
 ],
 "metadata": {
  "kernelspec": {
   "display_name": "global_env",
   "language": "python",
   "name": "python3"
  },
  "language_info": {
   "codemirror_mode": {
    "name": "ipython",
    "version": 3
   },
   "file_extension": ".py",
   "mimetype": "text/x-python",
   "name": "python",
   "nbconvert_exporter": "python",
   "pygments_lexer": "ipython3",
   "version": "3.10.6"
  }
 },
 "nbformat": 4,
 "nbformat_minor": 5
}
