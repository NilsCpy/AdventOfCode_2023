{
 "cells": [
  {
   "cell_type": "code",
   "execution_count": 37,
   "id": "80cec75b",
   "metadata": {},
   "outputs": [],
   "source": [
    "import numpy as np"
   ]
  },
  {
   "cell_type": "code",
   "execution_count": 38,
   "id": "de521e49",
   "metadata": {},
   "outputs": [],
   "source": [
    "data = open('data/day_03.txt', 'r').read()"
   ]
  },
  {
   "cell_type": "code",
   "execution_count": 39,
   "id": "66793494",
   "metadata": {},
   "outputs": [],
   "source": [
    "symbols = list(set(list(data))-set(['1', '2', '3', '4', '5', '6', '7', '8', '9', '0', '.', '\\n']))"
   ]
  },
  {
   "cell_type": "code",
   "execution_count": 40,
   "id": "eeebd643",
   "metadata": {},
   "outputs": [],
   "source": [
    "data_test = \"\"\"467..114..\n",
    "...*......\n",
    "..35..633.\n",
    "......#...\n",
    "617*......\n",
    ".....+.58.\n",
    "..592.....\n",
    "......755.\n",
    "...$.*....\n",
    ".664.598..\n",
    "\"\"\""
   ]
  },
  {
   "cell_type": "code",
   "execution_count": 41,
   "id": "3edf2202",
   "metadata": {},
   "outputs": [],
   "source": [
    "def get_valid_pos(grid):\n",
    "    size_max = len(grid)\n",
    "\n",
    "    # Toutes les positions qui ont un symbole\n",
    "    symbol_pos = np.argwhere(np.isin(grid, symbols))\n",
    "\n",
    "    # Tous les voisins de ses positions\n",
    "    neighs = []\n",
    "    for pos in symbol_pos:\n",
    "        x, y = pos\n",
    "        neighs += [(i, j) for i in range(max(0, x-1), min(size_max, x+1)+1) for j in range(max(0, y-1), min(size_max, y+1)+1)]\n",
    "\n",
    "    # On enlève les doublons\n",
    "    return list(set(neighs))"
   ]
  },
  {
   "cell_type": "code",
   "execution_count": null,
   "id": "3ce34eba",
   "metadata": {},
   "outputs": [],
   "source": [
    "def numbers_valid(grid, valid_pos):\n",
    "\n",
    "    numb_valids = []\n",
    "    for x, y in valid_pos:\n",
    "        if grid[x, y].isdigit():\n",
    "            numb_valids.append((x, y))\n",
    "\n",
    "    return numb_valids"
   ]
  },
  {
   "cell_type": "code",
   "execution_count": null,
   "id": "23c86bc0",
   "metadata": {},
   "outputs": [],
   "source": [
    "def get_valid_neighs(grid, valid_numbs):\n",
    "    valid_numbs_bis = valid_numbs.copy()\n",
    "\n",
    "    for _ in range(2):\n",
    "        valid_numbs = valid_numbs_bis.copy()\n",
    "        for x, y in valid_numbs:\n",
    "            # prev\n",
    "            if y != 0:\n",
    "                if grid[x, y-1].isdigit():\n",
    "                    valid_numbs_bis.append((x, y-1))\n",
    "            # next\n",
    "            if y != len(grid)-1:\n",
    "                if grid[x, y+1].isdigit():\n",
    "                    valid_numbs_bis.append((x, y+1))\n",
    "\n",
    "    return sorted(list(set(valid_numbs_bis)))\n"
   ]
  },
  {
   "cell_type": "code",
   "execution_count": 44,
   "id": "99b94c1a",
   "metadata": {},
   "outputs": [],
   "source": [
    "def get_sum(grid, valids):\n",
    "    calc = \"\"\n",
    "    for idx, (x, y) in enumerate(valids):\n",
    "        if idx == 0:\n",
    "            calc += str(grid[x, y])\n",
    "        else:\n",
    "            if (x == valids[idx-1][0]) and (y == valids[idx-1][1]+1):\n",
    "                calc += str(grid[x, y])\n",
    "            else:\n",
    "                calc += \"+\" + str(grid[x, y])\n",
    "    return sum([int(elem) for elem in calc.split('+')])"
   ]
  },
  {
   "cell_type": "code",
   "execution_count": 45,
   "id": "ee21809b",
   "metadata": {},
   "outputs": [],
   "source": [
    "def step_1(grid):\n",
    "    arr = np.array([list(elem) for elem in grid.split('\\n')][:-1])\n",
    "    valid_pos = get_valid_pos(arr)\n",
    "    val_numb = numbers_valid(arr, valid_pos)\n",
    "    valid_neighs = get_valid_neighs(arr, val_numb)\n",
    "    return get_sum(arr, valid_neighs)"
   ]
  },
  {
   "cell_type": "code",
   "execution_count": 46,
   "id": "a3b396c9",
   "metadata": {},
   "outputs": [
    {
     "data": {
      "text/plain": [
       "532331"
      ]
     },
     "execution_count": 46,
     "metadata": {},
     "output_type": "execute_result"
    }
   ],
   "source": [
    "step_1(data)"
   ]
  },
  {
   "cell_type": "code",
   "execution_count": null,
   "id": "7edf9c9a",
   "metadata": {},
   "outputs": [],
   "source": []
  }
 ],
 "metadata": {
  "kernelspec": {
   "display_name": "global_env",
   "language": "python",
   "name": "python3"
  },
  "language_info": {
   "codemirror_mode": {
    "name": "ipython",
    "version": 3
   },
   "file_extension": ".py",
   "mimetype": "text/x-python",
   "name": "python",
   "nbconvert_exporter": "python",
   "pygments_lexer": "ipython3",
   "version": "3.10.6"
  }
 },
 "nbformat": 4,
 "nbformat_minor": 5
}
