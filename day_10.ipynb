{
 "cells": [
  {
   "cell_type": "code",
   "execution_count": 4,
   "id": "35a10f8b",
   "metadata": {},
   "outputs": [],
   "source": [
    "data = open('data/day_10.txt', 'r').read()"
   ]
  },
  {
   "cell_type": "code",
   "execution_count": 5,
   "id": "aa2058d1",
   "metadata": {},
   "outputs": [],
   "source": [
    "import numpy as np\n",
    "\n",
    "directions = {\"up\":(-1, 0), 'down':(1, 0), 'right':(0, 1), 'left':(0, -1)}\n",
    "\n",
    "pipes = {\"|\":[(-1, 0), (1, 0)],\n",
    "         \"S\":[(-1, 0), (1, 0)],\n",
    "         \"-\":[(0, -1), (0, 1)],\n",
    "         \"L\":[(-1, 0), (0, 1)],\n",
    "         \"J\":[(-1, 0), (0, -1)],\n",
    "         \"7\":[(1, 0), (0, -1)],\n",
    "         \"F\":[(1, 0), (0, 1)],\n",
    "        #  \"S\":[(1, 0), (0, -1)],\n",
    "         '.':[],\n",
    "         'I':[],\n",
    "         'O':[],\n",
    "         }\n",
    "\n",
    "class Day10():\n",
    "\n",
    "    def __init__(self, data):\n",
    "        self.maze = np.array([list(line) for line in data.split('\\n')[:-1]])\n",
    "        self.start = np.argwhere(self.maze == 'S')[0]\n",
    "\n",
    "        self.x, self.y = self.start\n",
    "        self.dist = 0\n",
    "\n",
    "        self.main_loop = []\n",
    "\n",
    "        for dir in directions.keys():\n",
    "            pos = self.start + directions[dir]\n",
    "            char = self.maze[pos[0], pos[1]]\n",
    "            if tuple(np.array([0, 0]) - directions[dir]) in pipes[char]:\n",
    "                self.prev_pos = tuple(pos)\n",
    "\n",
    "    def step(self):\n",
    "        char = self.maze[self.x, self.y]\n",
    "        next_poss = pipes[char].copy()\n",
    "        for poss in next_poss:\n",
    "            if (self.x + poss[0], self.y+poss[1]) == self.prev_pos:\n",
    "                continue\n",
    "            next_pos = (self.x + poss[0], self.y + poss[1])\n",
    "        self.prev_pos = (self.x, self.y)\n",
    "        self.x, self.y = next_pos\n",
    "        self.main_loop.append((self.x, self.y))\n",
    "\n",
    "    def main(self):\n",
    "        self.step()\n",
    "        self.dist += 1\n",
    "\n",
    "        while self.maze[self.x, self.y] != 'S':\n",
    "            self.step()\n",
    "            self.dist += 1\n",
    "\n",
    "    def step_1(self):\n",
    "        self.main()\n",
    "        print(int(self.dist/2))\n",
    "\n",
    "    def step_2(self):\n",
    "        self.main()\n",
    "        self.maze[128, 88] = '|'\n",
    "        self.count = 0\n",
    "        for i in range(len(self.maze)):\n",
    "            self.state = 0\n",
    "            self.cming = ''\n",
    "            for j in range(len(self.maze[0])):\n",
    "                if (i, j) in self.main_loop:\n",
    "                    if self.maze[i, j] == 'F':\n",
    "                        self.cming = 'bot'\n",
    "                    if self.maze[i, j] == 'L':\n",
    "                        self.cming = 'top'\n",
    "                    if self.maze[i, j] == '|':\n",
    "                        self.state = 1 - self.state\n",
    "                    if self.maze[i, j] == '7' and self.cming == 'top':\n",
    "                        self.state = 1 - self.state\n",
    "                    if self.maze[i, j] == 'J' and self.cming == 'bot':\n",
    "                        self.state = 1 - self.state\n",
    "\n",
    "                else:\n",
    "                    self.count += self.state\n",
    "\n",
    "        print(self.count)\n",
    "\n",
    "    def clean_maze(self):\n",
    "        maze = ''\n",
    "        for i in range(140):\n",
    "            for j in range(140):\n",
    "                if (i, j) in self.main_loop:\n",
    "                    maze += self.maze[i, j]\n",
    "                else:\n",
    "                    maze += '.'\n",
    "            maze += '\\n'\n",
    "\n",
    "        with open('data/day_10_clean_maze.txt', 'w') as f:\n",
    "            f.write(maze)"
   ]
  },
  {
   "cell_type": "code",
   "execution_count": 6,
   "id": "94b49ec3",
   "metadata": {},
   "outputs": [
    {
     "name": "stdout",
     "output_type": "stream",
     "text": [
      "6640\n",
      "411\n"
     ]
    }
   ],
   "source": [
    "day10 = Day10(data)\n",
    "day10.step_1()\n",
    "day10.step_2()"
   ]
  }
 ],
 "metadata": {
  "kernelspec": {
   "display_name": "env_perso",
   "language": "python",
   "name": "python3"
  },
  "language_info": {
   "codemirror_mode": {
    "name": "ipython",
    "version": 3
   },
   "file_extension": ".py",
   "mimetype": "text/x-python",
   "name": "python",
   "nbconvert_exporter": "python",
   "pygments_lexer": "ipython3",
   "version": "3.10.6"
  }
 },
 "nbformat": 4,
 "nbformat_minor": 5
}
