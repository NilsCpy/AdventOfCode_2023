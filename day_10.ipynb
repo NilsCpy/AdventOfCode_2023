{
 "cells": [
  {
   "cell_type": "code",
   "execution_count": 13,
   "id": "35a10f8b",
   "metadata": {},
   "outputs": [],
   "source": [
    "data = open('data/day_10.txt', 'r').read()"
   ]
  },
  {
   "cell_type": "code",
   "execution_count": 14,
   "id": "37316bd1",
   "metadata": {},
   "outputs": [],
   "source": [
    "up = (-1, 0)\n",
    "right = (0, 1)\n",
    "down = (1, 0)\n",
    "left = (0, -1)"
   ]
  },
  {
   "cell_type": "code",
   "execution_count": null,
   "id": "aa2058d1",
   "metadata": {},
   "outputs": [],
   "source": [
    "import numpy as np\n",
    "\n",
    "directions = {\"up\":(-1, 0), 'down':(1, 0), 'right':(0, 1), 'left':(0, -1)}\n",
    "\n",
    "pipes = {\"|\":[(-1, 0), (1, 0)],\n",
    "         \"-\":[(0, -1), (0, 1)],\n",
    "         \"L\":[(-1, 0), (0, 1)],\n",
    "         \"J\":[(-1, 0), (0, -1)],\n",
    "         \"7\":[(1, 0), (0, 1)],\n",
    "         \"F\":[(1, 0), (0, -1)]\n",
    "         }\n",
    "\n",
    "class Day10():\n",
    "\n",
    "    def __init__(self, data):\n",
    "        self.maze = np.array([list(line) for line in data.split('\\n')[:-1]])\n",
    "        self.start = np.argwhere(self.maze == 'S')[0]\n",
    "\n",
    "        self.pos = self.start\n",
    "        self.dist = 0\n",
    "\n",
    "        for dir in directions.keys():\n",
    "            pos = self.start + directions[dir]\n",
    "            char = self.maze[pos[0], pos[1]]\n",
    "            if tuple(np.array([0, 0]) - directions[dir]) in pipes[char]:\n",
    "                self.next_pos = tuple(pos)\n",
    "\n",
    "    def step(self):\n",
    "        next_char = self.maze[self.next_pos]\n",
    "        next_poss = pipes[next_char].copy()\n",
    "        print(next_poss)\n",
    "        diff = tuple(self.pos - self.next_pos)\n",
    "        next = next_poss.remove(diff)\n",
    "\n",
    "\n",
    "        print()\n"
   ]
  },
  {
   "cell_type": "code",
   "execution_count": 16,
   "id": "94b49ec3",
   "metadata": {},
   "outputs": [],
   "source": [
    "day10 = Day10(data)"
   ]
  },
  {
   "cell_type": "code",
   "execution_count": 17,
   "id": "83665dfc",
   "metadata": {},
   "outputs": [
    {
     "name": "stdout",
     "output_type": "stream",
     "text": [
      "[(-1, 0), (0, 1)]\n",
      "[(0, 1)] None (np.int64(-1), np.int64(0))\n",
      "\n",
      "[(-1, 0), (0, 1)]\n",
      "[(0, 1)] None (np.int64(-1), np.int64(0))\n",
      "\n",
      "[(-1, 0), (0, 1)]\n",
      "[(0, 1)] None (np.int64(-1), np.int64(0))\n",
      "\n",
      "[(-1, 0), (0, 1)]\n",
      "[(0, 1)] None (np.int64(-1), np.int64(0))\n",
      "\n",
      "[(-1, 0), (0, 1)]\n",
      "[(0, 1)] None (np.int64(-1), np.int64(0))\n",
      "\n",
      "[(-1, 0), (0, 1)]\n",
      "[(0, 1)] None (np.int64(-1), np.int64(0))\n",
      "\n",
      "[(-1, 0), (0, 1)]\n",
      "[(0, 1)] None (np.int64(-1), np.int64(0))\n",
      "\n",
      "[(-1, 0), (0, 1)]\n",
      "[(0, 1)] None (np.int64(-1), np.int64(0))\n",
      "\n",
      "[(-1, 0), (0, 1)]\n",
      "[(0, 1)] None (np.int64(-1), np.int64(0))\n",
      "\n",
      "[(-1, 0), (0, 1)]\n",
      "[(0, 1)] None (np.int64(-1), np.int64(0))\n",
      "\n"
     ]
    }
   ],
   "source": [
    "for _ in range(10):\n",
    "    day10.step()"
   ]
  },
  {
   "cell_type": "code",
   "execution_count": 18,
   "id": "ca67a448",
   "metadata": {},
   "outputs": [
    {
     "data": {
      "text/plain": [
       "np.str_('-')"
      ]
     },
     "execution_count": 18,
     "metadata": {},
     "output_type": "execute_result"
    }
   ],
   "source": [
    "day10.maze[129][90]"
   ]
  },
  {
   "cell_type": "code",
   "execution_count": null,
   "id": "12928899",
   "metadata": {},
   "outputs": [],
   "source": []
  }
 ],
 "metadata": {
  "kernelspec": {
   "display_name": "env_perso",
   "language": "python",
   "name": "python3"
  },
  "language_info": {
   "codemirror_mode": {
    "name": "ipython",
    "version": 3
   },
   "file_extension": ".py",
   "mimetype": "text/x-python",
   "name": "python",
   "nbconvert_exporter": "python",
   "pygments_lexer": "ipython3",
   "version": "3.10.6"
  }
 },
 "nbformat": 4,
 "nbformat_minor": 5
}
