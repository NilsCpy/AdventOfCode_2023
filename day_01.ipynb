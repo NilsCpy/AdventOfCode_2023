{
 "cells": [
  {
   "cell_type": "code",
   "execution_count": 2,
   "id": "c3970f5d",
   "metadata": {},
   "outputs": [],
   "source": [
    "data = open('data/day_01.txt', 'r').read()"
   ]
  },
  {
   "cell_type": "code",
   "execution_count": 3,
   "id": "4a98d563",
   "metadata": {},
   "outputs": [
    {
     "data": {
      "text/plain": [
       "55488"
      ]
     },
     "execution_count": 3,
     "metadata": {},
     "output_type": "execute_result"
    }
   ],
   "source": [
    "sum([(10*digits[0] + digits[-1]) for chain in data.split('\\n')[:-1] if (digits := [int(char) for char in chain if char.isdigit()])])"
   ]
  },
  {
   "cell_type": "code",
   "execution_count": 4,
   "id": "c77f84c3",
   "metadata": {},
   "outputs": [
    {
     "data": {
      "text/plain": [
       "55614"
      ]
     },
     "execution_count": 4,
     "metadata": {},
     "output_type": "execute_result"
    }
   ],
   "source": [
    "data_rpl = data.replace('one', 'one1one').replace('two', 'two2two').replace('three', 'three3three').replace('four', 'four4four').replace('five', 'five5five').replace('six', 'six6six').replace('seven', 'seven7seven').replace('eight', 'eight8eight').replace('nine', 'nine9nine')\n",
    "sum([(10*digits[0] + digits[-1]) for chain in data_rpl.split('\\n')[:-1] if (digits := [int(char) for char in chain if char.isdigit()])])"
   ]
  }
 ],
 "metadata": {
  "kernelspec": {
   "display_name": "global_env",
   "language": "python",
   "name": "python3"
  },
  "language_info": {
   "codemirror_mode": {
    "name": "ipython",
    "version": 3
   },
   "file_extension": ".py",
   "mimetype": "text/x-python",
   "name": "python",
   "nbconvert_exporter": "python",
   "pygments_lexer": "ipython3",
   "version": "3.10.6"
  }
 },
 "nbformat": 4,
 "nbformat_minor": 5
}
