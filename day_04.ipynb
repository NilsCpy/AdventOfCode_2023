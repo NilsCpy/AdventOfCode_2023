{
 "cells": [
  {
   "cell_type": "code",
   "execution_count": 14,
   "id": "2ee62dae",
   "metadata": {},
   "outputs": [],
   "source": [
    "data = open('data/day_04.txt', 'r').read()"
   ]
  },
  {
   "cell_type": "code",
   "execution_count": 15,
   "id": "1a671f52",
   "metadata": {},
   "outputs": [
    {
     "data": {
      "text/plain": [
       "25231"
      ]
     },
     "execution_count": 15,
     "metadata": {},
     "output_type": "execute_result"
    }
   ],
   "source": [
    "wins = 0\n",
    "\n",
    "for elem in data.split(\"\\n\")[:-1]:\n",
    "    winnings = [value for value in list(set(elem.split(\": \")[1].split(\"|\")[0].split(\" \"))) if value != '']\n",
    "    numbers = [value for value in list(set(elem.split(\": \")[1].split(\"|\")[1].split(\" \"))) if value != '']\n",
    "    if (power := len(winnings) + len(numbers) - len(set(winnings+numbers))) > 0:\n",
    "        wins += pow(2, power-1)\n",
    "\n",
    "wins"
   ]
  },
  {
   "cell_type": "code",
   "execution_count": 16,
   "id": "d32e4bb4",
   "metadata": {},
   "outputs": [
    {
     "data": {
      "text/plain": [
       "9721255"
      ]
     },
     "execution_count": 16,
     "metadata": {},
     "output_type": "execute_result"
    }
   ],
   "source": [
    "dico = {}\n",
    "\n",
    "for idx, elem in enumerate(data.split(\"\\n\")[:-1]):\n",
    "    winnings = [value for value in list(set(elem.split(\": \")[1].split(\"|\")[0].split(\" \"))) if value != '']\n",
    "    numbers = [value for value in list(set(elem.split(\": \")[1].split(\"|\")[1].split(\" \"))) if value != '']\n",
    "    winners = len(winnings) + len(numbers) - len(set(winnings+numbers))\n",
    "    dico[idx+1] = [winners, 1]\n",
    "\n",
    "for key in dico.keys():\n",
    "    for i in range(key+1, min(key+dico[key][0], max(dico.keys()))+1):\n",
    "        dico[i][1] += dico[key][1]\n",
    "\n",
    "sum([dico[key][1] for key in dico.keys()])"
   ]
  },
  {
   "cell_type": "code",
   "execution_count": null,
   "id": "f63a7c62",
   "metadata": {},
   "outputs": [],
   "source": []
  }
 ],
 "metadata": {
  "kernelspec": {
   "display_name": "global_env",
   "language": "python",
   "name": "python3"
  },
  "language_info": {
   "codemirror_mode": {
    "name": "ipython",
    "version": 3
   },
   "file_extension": ".py",
   "mimetype": "text/x-python",
   "name": "python",
   "nbconvert_exporter": "python",
   "pygments_lexer": "ipython3",
   "version": "3.10.6"
  }
 },
 "nbformat": 4,
 "nbformat_minor": 5
}
