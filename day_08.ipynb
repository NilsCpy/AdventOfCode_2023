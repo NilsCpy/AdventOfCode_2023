{
 "cells": [
  {
   "cell_type": "code",
   "execution_count": 67,
   "id": "2c0136c4",
   "metadata": {},
   "outputs": [],
   "source": [
    "data = open('data/day_08.txt', 'r').read()"
   ]
  },
  {
   "cell_type": "code",
   "execution_count": 68,
   "id": "bf34f964",
   "metadata": {},
   "outputs": [],
   "source": [
    "instruction = data.split('\\n')[0]\n",
    "network = {sp[0]: tuple(sp[1].strip(\"() \").split(\", \")) for elem in data.split('\\n')[2:-1] if (sp:=elem.split(' = '))}\n",
    "pos = 'AAA'\n",
    "direction = {'L':0, 'R':1}"
   ]
  },
  {
   "cell_type": "code",
   "execution_count": null,
   "id": "16328c4b",
   "metadata": {},
   "outputs": [
    {
     "data": {
      "text/plain": [
       "17287"
      ]
     },
     "execution_count": 69,
     "metadata": {},
     "output_type": "execute_result"
    }
   ],
   "source": [
    "count = 0\n",
    "\n",
    "idx = 0\n",
    "while pos != 'ZZZ':\n",
    "\n",
    "    pos = network[pos][direction[instruction[idx]]]\n",
    "    idx = (idx +1)%len(instruction)\n",
    "\n",
    "    count += 1\n",
    "\n",
    "count"
   ]
  },
  {
   "cell_type": "code",
   "execution_count": null,
   "id": "0d2ae61e",
   "metadata": {},
   "outputs": [],
   "source": [
    "# count = 0\n",
    "\n",
    "# poss = [elem for elem in network.keys() if elem[-1] == 'A']\n",
    "# obj = set([elem for elem in network.keys() if elem[-1] == 'Z'])\n",
    "\n",
    "# idx = 0\n",
    "# while set(poss) != obj:\n",
    "\n",
    "#     direc = direction[instruction[idx]]\n",
    "\n",
    "#     poss = [network[posi][direc] for posi in poss]\n",
    "\n",
    "#     idx = (idx +1)%len(instruction)\n",
    "\n",
    "#     count += 1\n",
    "\n",
    "# count\n",
    "\n",
    "# Trop long"
   ]
  },
  {
   "cell_type": "code",
   "execution_count": null,
   "id": "5bd65260",
   "metadata": {},
   "outputs": [
    {
     "data": {
      "text/plain": [
       "[13771, 20803, 23147, 19631, 17287, 17873]"
      ]
     },
     "execution_count": 71,
     "metadata": {},
     "output_type": "execute_result"
    }
   ],
   "source": [
    "poss = [elem for elem in network.keys() if elem[-1] == 'A']\n",
    "\n",
    "def cycle(pos):\n",
    "\n",
    "    count = 0\n",
    "\n",
    "    idx = 0\n",
    "    while 1:\n",
    "\n",
    "        pos = network[pos][direction[instruction[idx]]]\n",
    "        idx = (idx +1)%len(instruction)\n",
    "\n",
    "        count += 1\n",
    "\n",
    "        if pos[-1] == 'Z':\n",
    "            return count\n",
    "\n",
    "cycles = [cycle(pos) for pos in poss]\n",
    "cycles"
   ]
  },
  {
   "cell_type": "code",
   "execution_count": 72,
   "id": "4f25b164",
   "metadata": {},
   "outputs": [
    {
     "data": {
      "text/plain": [
       "18625484023687"
      ]
     },
     "execution_count": 72,
     "metadata": {},
     "output_type": "execute_result"
    }
   ],
   "source": [
    "import math\n",
    "\n",
    "math.lcm(*cycles)"
   ]
  },
  {
   "cell_type": "code",
   "execution_count": null,
   "id": "a7261edd",
   "metadata": {},
   "outputs": [],
   "source": []
  }
 ],
 "metadata": {
  "kernelspec": {
   "display_name": "env_perso",
   "language": "python",
   "name": "python3"
  },
  "language_info": {
   "codemirror_mode": {
    "name": "ipython",
    "version": 3
   },
   "file_extension": ".py",
   "mimetype": "text/x-python",
   "name": "python",
   "nbconvert_exporter": "python",
   "pygments_lexer": "ipython3",
   "version": "3.10.6"
  }
 },
 "nbformat": 4,
 "nbformat_minor": 5
}
