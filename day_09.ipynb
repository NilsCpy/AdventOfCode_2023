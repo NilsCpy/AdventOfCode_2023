{
 "cells": [
  {
   "cell_type": "code",
   "execution_count": 34,
   "id": "e21a9878",
   "metadata": {},
   "outputs": [],
   "source": [
    "data = open('data/day_09.txt', 'r').read()"
   ]
  },
  {
   "cell_type": "code",
   "execution_count": 35,
   "id": "6849425d",
   "metadata": {},
   "outputs": [],
   "source": [
    "def get_next(numbers):\n",
    "    if len(set(numbers)) == 1:\n",
    "        return numbers + [numbers[0]]\n",
    "    diffs = [numbers[i+1] - numbers[i] for i in range(len(numbers)-1)]\n",
    "    return numbers + [numbers[0] + sum(get_next(diffs))]"
   ]
  },
  {
   "cell_type": "code",
   "execution_count": 36,
   "id": "ef923980",
   "metadata": {},
   "outputs": [
    {
     "data": {
      "text/plain": [
       "1725987467"
      ]
     },
     "execution_count": 36,
     "metadata": {},
     "output_type": "execute_result"
    }
   ],
   "source": [
    "sum([get_next([int(elem) for elem in line.split(\" \")])[-1] for line in data.split('\\n')[:-1]])"
   ]
  },
  {
   "cell_type": "code",
   "execution_count": 37,
   "id": "b96274f1",
   "metadata": {},
   "outputs": [],
   "source": [
    "def get_prev(numbers):\n",
    "    if len(set(numbers)) == 1:\n",
    "        return numbers + [numbers[0]]\n",
    "    diffs = [numbers[i+1] - numbers[i] for i in range(len(numbers)-1)]\n",
    "    return [numbers[0] - get_prev(diffs)[0]] + numbers"
   ]
  },
  {
   "cell_type": "code",
   "execution_count": 38,
   "id": "48b41499",
   "metadata": {},
   "outputs": [
    {
     "data": {
      "text/plain": [
       "971"
      ]
     },
     "execution_count": 38,
     "metadata": {},
     "output_type": "execute_result"
    }
   ],
   "source": [
    "sum([get_prev([int(elem) for elem in line.split(\" \")])[0] for line in data.split('\\n')[:-1]])"
   ]
  }
 ],
 "metadata": {
  "kernelspec": {
   "display_name": "env_perso",
   "language": "python",
   "name": "python3"
  },
  "language_info": {
   "codemirror_mode": {
    "name": "ipython",
    "version": 3
   },
   "file_extension": ".py",
   "mimetype": "text/x-python",
   "name": "python",
   "nbconvert_exporter": "python",
   "pygments_lexer": "ipython3",
   "version": "3.10.6"
  }
 },
 "nbformat": 4,
 "nbformat_minor": 5
}
