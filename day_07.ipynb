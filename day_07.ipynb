{
 "cells": [
  {
   "cell_type": "code",
   "execution_count": 11,
   "id": "837afc05",
   "metadata": {},
   "outputs": [],
   "source": [
    "data = open('data/day_07.txt', 'r').read()"
   ]
  },
  {
   "cell_type": "code",
   "execution_count": 12,
   "id": "596864c4",
   "metadata": {},
   "outputs": [],
   "source": [
    "data_test = \"\"\"32T3K 765\n",
    "T55J5 684\n",
    "KK677 28\n",
    "KTJJT 220\n",
    "QQQJA 483\n",
    "\"\"\""
   ]
  },
  {
   "cell_type": "code",
   "execution_count": 13,
   "id": "6649001b",
   "metadata": {},
   "outputs": [],
   "source": [
    "clean_data = [(elem.split(' ')[0], int(elem.split(' ')[1])) for elem in data.split('\\n')[:-1]]"
   ]
  },
  {
   "cell_type": "code",
   "execution_count": 14,
   "id": "a9dd7593",
   "metadata": {},
   "outputs": [],
   "source": [
    "def hand_type(hand):\n",
    "    size = len(set(hand))\n",
    "\n",
    "    if size == 1:\n",
    "        return \"Five\"\n",
    "    if size == 4:\n",
    "        return \"Pair\"\n",
    "    if size == 5:\n",
    "        return \"High\"\n",
    "\n",
    "    if size == 2:\n",
    "        if hand.count(hand[0]) in [2, 3]:\n",
    "            return \"Full\"\n",
    "        return \"Four\"\n",
    "\n",
    "    if size == 3:\n",
    "        if hand.count(hand[0]) == 2 or hand.count(hand[1]) == 2:\n",
    "            return \"Double\"\n",
    "        return \"Three\"\n"
   ]
  },
  {
   "cell_type": "code",
   "execution_count": 15,
   "id": "a68b02e5",
   "metadata": {},
   "outputs": [],
   "source": [
    "dico_sort_hands = {\"Five\" : [],\n",
    "                  \"Four\" : [],\n",
    "                  \"Full\" : [],\n",
    "                  \"Three\" : [],\n",
    "                  \"Double\" : [],\n",
    "                  \"Pair\" : [],\n",
    "                  \"High\" : []}\n",
    "\n",
    "for elem in clean_data:\n",
    "    dico_sort_hands[hand_type(elem[0])].append(elem)"
   ]
  },
  {
   "cell_type": "code",
   "execution_count": 16,
   "id": "ea4708f7",
   "metadata": {},
   "outputs": [],
   "source": [
    "order = \"AKQJT98765432\"\n",
    "dico_order = {letter: index for index, letter in enumerate(order)}"
   ]
  },
  {
   "cell_type": "code",
   "execution_count": 17,
   "id": "c545aa84",
   "metadata": {},
   "outputs": [],
   "source": [
    "for handtype in dico_sort_hands.keys():\n",
    "    dico_sort_hands[handtype] = sorted(dico_sort_hands[handtype], key=lambda hand: [dico_order[letter] for letter in hand[0]])"
   ]
  },
  {
   "cell_type": "code",
   "execution_count": 18,
   "id": "c47f8895",
   "metadata": {},
   "outputs": [
    {
     "data": {
      "text/plain": [
       "250347426"
      ]
     },
     "execution_count": 18,
     "metadata": {},
     "output_type": "execute_result"
    }
   ],
   "source": [
    "score = len(clean_data)\n",
    "\n",
    "result = 0\n",
    "\n",
    "for handtype in dico_sort_hands.keys():\n",
    "    for hand in dico_sort_hands[handtype]:\n",
    "        result += score * hand[1]\n",
    "        score -= 1\n",
    "\n",
    "result"
   ]
  },
  {
   "cell_type": "code",
   "execution_count": null,
   "id": "dc343f1b",
   "metadata": {},
   "outputs": [],
   "source": [
    "def get_best_hand(hand):\n",
    "\n",
    "    if hand.count('J') == 0:\n",
    "        return hand\n",
    "\n",
    "    order = \"AKQJT98765432\"\n",
    "\n",
    "    max_letter = ['2', 0]\n",
    "\n",
    "    for letter in hand:\n",
    "        if letter == 'J':\n",
    "            continue\n",
    "        if hand.count(letter) > max_letter[1]:\n",
    "            max_letter = [letter, hand.count(letter)]\n",
    "        elif hand.count(letter) == max_letter[1]:\n",
    "            if order.index(letter) < order.index(max_letter[0]):\n",
    "                max_letter = [letter, hand.count(letter)]\n",
    "\n",
    "    return hand.replace('J', max_letter[0])"
   ]
  },
  {
   "cell_type": "code",
   "execution_count": 24,
   "id": "81162517",
   "metadata": {},
   "outputs": [],
   "source": [
    "modif_data = [(get_best_hand(elem[0]), elem[0], elem[1]) for elem in clean_data]"
   ]
  },
  {
   "cell_type": "code",
   "execution_count": 25,
   "id": "5c3de96f",
   "metadata": {},
   "outputs": [],
   "source": [
    "dico_sort_hands = {\"Five\" : [],\n",
    "                  \"Four\" : [],\n",
    "                  \"Full\" : [],\n",
    "                  \"Three\" : [],\n",
    "                  \"Double\" : [],\n",
    "                  \"Pair\" : [],\n",
    "                  \"High\" : []}\n",
    "\n",
    "for elem in modif_data:\n",
    "    dico_sort_hands[hand_type(elem[0])].append(elem)"
   ]
  },
  {
   "cell_type": "code",
   "execution_count": 26,
   "id": "ffb292c0",
   "metadata": {},
   "outputs": [],
   "source": [
    "order_2 = \"AKQT98765432J\"\n",
    "dico_order = {letter: index for index, letter in enumerate(order_2)}"
   ]
  },
  {
   "cell_type": "code",
   "execution_count": 27,
   "id": "34c617fa",
   "metadata": {},
   "outputs": [],
   "source": [
    "for handtype in dico_sort_hands.keys():\n",
    "    dico_sort_hands[handtype] = sorted(dico_sort_hands[handtype], key=lambda hand: [dico_order[letter] for letter in hand[1]])"
   ]
  },
  {
   "cell_type": "code",
   "execution_count": 28,
   "id": "80c943ce",
   "metadata": {},
   "outputs": [
    {
     "data": {
      "text/plain": [
       "251224870"
      ]
     },
     "execution_count": 28,
     "metadata": {},
     "output_type": "execute_result"
    }
   ],
   "source": [
    "score = len(modif_data)\n",
    "\n",
    "result = 0\n",
    "\n",
    "for handtype in dico_sort_hands.keys():\n",
    "    for hand in dico_sort_hands[handtype]:\n",
    "        result += score * hand[2]\n",
    "        score -= 1\n",
    "\n",
    "result"
   ]
  },
  {
   "cell_type": "code",
   "execution_count": null,
   "id": "56128a26",
   "metadata": {},
   "outputs": [],
   "source": []
  }
 ],
 "metadata": {
  "kernelspec": {
   "display_name": "env_perso",
   "language": "python",
   "name": "python3"
  },
  "language_info": {
   "codemirror_mode": {
    "name": "ipython",
    "version": 3
   },
   "file_extension": ".py",
   "mimetype": "text/x-python",
   "name": "python",
   "nbconvert_exporter": "python",
   "pygments_lexer": "ipython3",
   "version": "3.10.6"
  }
 },
 "nbformat": 4,
 "nbformat_minor": 5
}
