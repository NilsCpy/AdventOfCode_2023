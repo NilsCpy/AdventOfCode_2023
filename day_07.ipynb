{
 "cells": [
  {
   "cell_type": "code",
   "execution_count": 90,
   "id": "837afc05",
   "metadata": {},
   "outputs": [],
   "source": [
    "data = open('data/day_07.txt', 'r').read()"
   ]
  },
  {
   "cell_type": "code",
   "execution_count": 91,
   "id": "596864c4",
   "metadata": {},
   "outputs": [],
   "source": [
    "data_test = \"\"\"32T3K 765\n",
    "T55J5 684\n",
    "KK677 28\n",
    "KTJJT 220\n",
    "QQQJA 483\n",
    "\"\"\""
   ]
  },
  {
   "cell_type": "code",
   "execution_count": 92,
   "id": "6649001b",
   "metadata": {},
   "outputs": [],
   "source": [
    "clean_data = [(elem.split(' ')[0], int(elem.split(' ')[1])) for elem in data.split('\\n')[:-1]]"
   ]
  },
  {
   "cell_type": "code",
   "execution_count": 93,
   "id": "a9dd7593",
   "metadata": {},
   "outputs": [],
   "source": [
    "def hand_type(hand):\n",
    "    size = len(set(hand))\n",
    "\n",
    "    if size == 1:\n",
    "        return \"Five\"\n",
    "    if size == 4:\n",
    "        return \"Pair\"\n",
    "    if size == 5:\n",
    "        return \"High\"\n",
    "\n",
    "    if size == 2:\n",
    "        if hand.count(hand[0]) in [2, 3]:\n",
    "            return \"Full\"\n",
    "        return \"Four\"\n",
    "\n",
    "    if size == 3:\n",
    "        if hand.count(hand[0]) == 2 or hand.count(hand[1]) == 2:\n",
    "            return \"Double\"\n",
    "        return \"Three\"\n"
   ]
  },
  {
   "cell_type": "code",
   "execution_count": 94,
   "id": "a68b02e5",
   "metadata": {},
   "outputs": [],
   "source": [
    "dico_sort_hands = {\"Five\" : [],\n",
    "                  \"Four\" : [],\n",
    "                  \"Full\" : [],\n",
    "                  \"Three\" : [],\n",
    "                  \"Double\" : [],\n",
    "                  \"Pair\" : [],\n",
    "                  \"High\" : []}\n",
    "\n",
    "for elem in clean_data:\n",
    "    dico_sort_hands[hand_type(elem[0])].append(elem)"
   ]
  },
  {
   "cell_type": "code",
   "execution_count": 95,
   "id": "ea4708f7",
   "metadata": {},
   "outputs": [],
   "source": [
    "order = \"AKQJT98765432\"\n",
    "dico_order = {letter: index for index, letter in enumerate(order)}"
   ]
  },
  {
   "cell_type": "code",
   "execution_count": 96,
   "id": "c545aa84",
   "metadata": {},
   "outputs": [],
   "source": [
    "for handtype in dico_sort_hands.keys():\n",
    "    dico_sort_hands[handtype] = sorted(dico_sort_hands[handtype], key=lambda hand: [dico_order[letter] for letter in hand[0]])"
   ]
  },
  {
   "cell_type": "code",
   "execution_count": 97,
   "id": "c47f8895",
   "metadata": {},
   "outputs": [
    {
     "data": {
      "text/plain": [
       "250347426"
      ]
     },
     "execution_count": 97,
     "metadata": {},
     "output_type": "execute_result"
    }
   ],
   "source": [
    "score = len(clean_data)\n",
    "\n",
    "result = 0\n",
    "\n",
    "for handtype in dico_sort_hands.keys():\n",
    "    for hand in dico_sort_hands[handtype]:\n",
    "        result += score * hand[1]\n",
    "        score -= 1\n",
    "\n",
    "result"
   ]
  },
  {
   "cell_type": "code",
   "execution_count": null,
   "id": "dc343f1b",
   "metadata": {},
   "outputs": [],
   "source": []
  }
 ],
 "metadata": {
  "kernelspec": {
   "display_name": "env_perso",
   "language": "python",
   "name": "python3"
  },
  "language_info": {
   "codemirror_mode": {
    "name": "ipython",
    "version": 3
   },
   "file_extension": ".py",
   "mimetype": "text/x-python",
   "name": "python",
   "nbconvert_exporter": "python",
   "pygments_lexer": "ipython3",
   "version": "3.10.6"
  }
 },
 "nbformat": 4,
 "nbformat_minor": 5
}
