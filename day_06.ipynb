{
 "cells": [
  {
   "cell_type": "code",
   "execution_count": 30,
   "id": "d768e46b",
   "metadata": {},
   "outputs": [],
   "source": [
    "data = open('data/day_06.txt', 'r').read()"
   ]
  },
  {
   "cell_type": "code",
   "execution_count": null,
   "id": "74b449c2",
   "metadata": {},
   "outputs": [
    {
     "data": {
      "text/plain": [
       "252000"
      ]
     },
     "execution_count": 31,
     "metadata": {},
     "output_type": "execute_result"
    }
   ],
   "source": [
    "times = [int(elem) for elem in data.split('\\n')[0].split(':')[1].split(' ') if elem != '']\n",
    "distances = [int(elem) for elem in data.split('\\n')[1].split(':')[1].split(' ') if elem != '']\n",
    "\n",
    "result = 1\n",
    "for idx in range(len(times)):\n",
    "    result = result * sum([((times[idx]-x)*x - distances[idx] > 0) for x in range(times[idx]+1)])\n",
    "\n",
    "result"
   ]
  },
  {
   "cell_type": "code",
   "execution_count": null,
   "id": "4dd5fe62",
   "metadata": {},
   "outputs": [
    {
     "data": {
      "text/plain": [
       "36992486"
      ]
     },
     "execution_count": 32,
     "metadata": {},
     "output_type": "execute_result"
    }
   ],
   "source": [
    "time = int(''.join([elem for elem in data.split('\\n')[0].split(':')[1] if elem != ' ']))\n",
    "distance = int(''.join([elem for elem in data.split('\\n')[1].split(':')[1] if elem != ' ']))\n",
    "\n",
    "sum([((time-x)*x - distance > 0) for x in range(time+1)]) # Pas opti du tout mais ça marche (les paraboles tout ça)"
   ]
  }
 ],
 "metadata": {
  "kernelspec": {
   "display_name": "env_perso",
   "language": "python",
   "name": "python3"
  },
  "language_info": {
   "codemirror_mode": {
    "name": "ipython",
    "version": 3
   },
   "file_extension": ".py",
   "mimetype": "text/x-python",
   "name": "python",
   "nbconvert_exporter": "python",
   "pygments_lexer": "ipython3",
   "version": "3.10.6"
  }
 },
 "nbformat": 4,
 "nbformat_minor": 5
}
