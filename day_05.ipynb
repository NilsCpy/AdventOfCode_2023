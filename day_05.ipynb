{
 "cells": [
  {
   "cell_type": "code",
   "execution_count": 54,
   "id": "a641d05e",
   "metadata": {},
   "outputs": [],
   "source": [
    "data = open('data/day_05.txt', 'r').read()"
   ]
  },
  {
   "cell_type": "code",
   "execution_count": 55,
   "id": "2b575ae1",
   "metadata": {},
   "outputs": [],
   "source": [
    "data_test = \"\"\"seeds: 79 14 55 13\n",
    "\n",
    "seed-to-soil map:\n",
    "50 98 2\n",
    "52 50 48\n",
    "\n",
    "soil-to-fertilizer map:\n",
    "0 15 37\n",
    "37 52 2\n",
    "39 0 15\n",
    "\n",
    "fertilizer-to-water map:\n",
    "49 53 8\n",
    "0 11 42\n",
    "42 0 7\n",
    "57 7 4\n",
    "\n",
    "water-to-light map:\n",
    "88 18 7\n",
    "18 25 70\n",
    "\n",
    "light-to-temperature map:\n",
    "45 77 23\n",
    "81 45 19\n",
    "68 64 13\n",
    "\n",
    "temperature-to-humidity map:\n",
    "0 69 1\n",
    "1 0 69\n",
    "\n",
    "humidity-to-location map:\n",
    "60 56 37\n",
    "56 93 4\n",
    "\"\"\""
   ]
  },
  {
   "cell_type": "code",
   "execution_count": 56,
   "id": "331661fb",
   "metadata": {},
   "outputs": [],
   "source": [
    "data_cp = data_test[:-1]\n",
    "\n",
    "seeds = [int(seed) for seed in data_cp.split(\"\\n\")[0].split(\":\")[1].strip().split(\" \")]"
   ]
  },
  {
   "cell_type": "code",
   "execution_count": 57,
   "id": "23190e26",
   "metadata": {},
   "outputs": [],
   "source": [
    "maps = [line for line in data_cp.split(\"\\n\") if (line == \"\" or line[0].isdigit())]"
   ]
  },
  {
   "cell_type": "code",
   "execution_count": null,
   "id": "cd8af6d5",
   "metadata": {},
   "outputs": [],
   "source": [
    "def moves(seed, maps):\n",
    "\n",
    "    print()\n",
    "\n",
    "    next_map = False\n",
    "    for line in maps:\n",
    "\n",
    "        if not line:\n",
    "            next_map = False\n",
    "            print(seed)\n",
    "            continue\n",
    "\n",
    "        if next_map:\n",
    "            continue\n",
    "\n",
    "        dest, source, steps = [int(_) for _ in line.split(\" \")]\n",
    "        if seed >= source and seed < source+steps:\n",
    "            seed = seed + dest - source\n",
    "            print(\"--\", dest, source, steps)\n",
    "            next_map = True\n",
    "\n",
    "    print(seed)\n",
    "\n",
    "    return seed"
   ]
  },
  {
   "cell_type": "code",
   "execution_count": 59,
   "id": "7d275383",
   "metadata": {},
   "outputs": [],
   "source": [
    "def moves_rev(location, maps):\n",
    "\n",
    "    next_map = False\n",
    "    for line in maps[::-1]:\n",
    "\n",
    "        if not line:\n",
    "            next_map = False\n",
    "            continue\n",
    "\n",
    "        if next_map:\n",
    "            continue\n",
    "\n",
    "        dest, source, steps = [int(_) for _ in line.split(\" \")]\n",
    "        if location >= dest and location < dest+steps:\n",
    "            location = location - dest + source\n",
    "\n",
    "    return location"
   ]
  },
  {
   "cell_type": "code",
   "execution_count": 60,
   "id": "bba274a0",
   "metadata": {},
   "outputs": [],
   "source": [
    "def step_2():\n",
    "    i = 38760000\n",
    "    while True:\n",
    "        origin = moves_rev(i, maps)\n",
    "        for idx_seed in range(len(seeds)//2):\n",
    "            if origin >= seeds[2*idx_seed] and origin < (seeds[2*idx_seed] + seeds[2*idx_seed+1]):\n",
    "                return i\n",
    "        i += 1"
   ]
  },
  {
   "cell_type": "code",
   "execution_count": 61,
   "id": "240015c6",
   "metadata": {},
   "outputs": [],
   "source": [
    "seeds = [int(seed) for seed in data.split(\"\\n\")[0].split(\":\")[1].strip().split(\" \")]\n",
    "maps = [line for line in data.split(\"\\n\") if (line == \"\" or line[0].isdigit())]\n",
    "\n",
    "# step_2()"
   ]
  }
 ],
 "metadata": {
  "kernelspec": {
   "display_name": "env_perso",
   "language": "python",
   "name": "python3"
  },
  "language_info": {
   "codemirror_mode": {
    "name": "ipython",
    "version": 3
   },
   "file_extension": ".py",
   "mimetype": "text/x-python",
   "name": "python",
   "nbconvert_exporter": "python",
   "pygments_lexer": "ipython3",
   "version": "3.10.6"
  }
 },
 "nbformat": 4,
 "nbformat_minor": 5
}
