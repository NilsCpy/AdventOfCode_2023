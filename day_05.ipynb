{
 "cells": [
  {
   "cell_type": "code",
   "execution_count": 1,
   "id": "a641d05e",
   "metadata": {},
   "outputs": [],
   "source": [
    "data = open('data/day_05.txt', 'r').read()"
   ]
  },
  {
   "cell_type": "code",
   "execution_count": 2,
   "id": "2b575ae1",
   "metadata": {},
   "outputs": [],
   "source": [
    "data_test = \"\"\"seeds: 79 14 55 13\n",
    "\n",
    "seed-to-soil map:\n",
    "50 98 2\n",
    "52 50 48\n",
    "\n",
    "soil-to-fertilizer map:\n",
    "0 15 37\n",
    "37 52 2\n",
    "39 0 15\n",
    "\n",
    "fertilizer-to-water map:\n",
    "49 53 8\n",
    "0 11 42\n",
    "42 0 7\n",
    "57 7 4\n",
    "\n",
    "water-to-light map:\n",
    "88 18 7\n",
    "18 25 70\n",
    "\n",
    "light-to-temperature map:\n",
    "45 77 23\n",
    "81 45 19\n",
    "68 64 13\n",
    "\n",
    "temperature-to-humidity map:\n",
    "0 69 1\n",
    "1 0 69\n",
    "\n",
    "humidity-to-location map:\n",
    "60 56 37\n",
    "56 93 4\n",
    "\"\"\""
   ]
  },
  {
   "cell_type": "code",
   "execution_count": 43,
   "id": "331661fb",
   "metadata": {},
   "outputs": [],
   "source": [
    "data_cp = data_test[:-1]\n",
    "\n",
    "seeds = [int(seed) for seed in data_cp.split(\"\\n\")[0].split(\":\")[1].strip().split(\" \")]"
   ]
  },
  {
   "cell_type": "code",
   "execution_count": 44,
   "id": "23190e26",
   "metadata": {},
   "outputs": [],
   "source": [
    "maps = [line for line in data_cp.split(\"\\n\") if (line == \"\" or line[0].isdigit())]"
   ]
  },
  {
   "cell_type": "code",
   "execution_count": null,
   "id": "cd8af6d5",
   "metadata": {},
   "outputs": [],
   "source": [
    "def moves(seed, maps):\n",
    "\n",
    "    next_map = False\n",
    "    for line in maps:\n",
    "\n",
    "        if not line:\n",
    "            next_map = False\n",
    "            continue\n",
    "\n",
    "        if next_map:\n",
    "            continue\n",
    "\n",
    "        dest, source, steps = [int(_) for _ in line.split(\" \")]\n",
    "        if seed >= source and seed < source+steps:\n",
    "            seed = seed + dest - source\n",
    "            next_map = True\n",
    "\n",
    "    return seed"
   ]
  },
  {
   "cell_type": "code",
   "execution_count": 57,
   "id": "2c9656fd",
   "metadata": {},
   "outputs": [
    {
     "data": {
      "text/plain": [
       "346433842"
      ]
     },
     "execution_count": 57,
     "metadata": {},
     "output_type": "execute_result"
    }
   ],
   "source": [
    "seeds = [int(seed) for seed in data.split(\"\\n\")[0].split(\":\")[1].strip().split(\" \")]\n",
    "maps = [line for line in data.split(\"\\n\") if (line == \"\" or line[0].isdigit())]\n",
    "\n",
    "min([moves(seed, maps) for seed in seeds])"
   ]
  },
  {
   "cell_type": "code",
   "execution_count": 56,
   "id": "7d275383",
   "metadata": {},
   "outputs": [],
   "source": [
    "def moves_rev(location, maps):\n",
    "\n",
    "    next_map = False\n",
    "    for line in maps[::-1]:\n",
    "\n",
    "        if not line:\n",
    "            next_map = False\n",
    "            continue\n",
    "\n",
    "        if next_map:\n",
    "            continue\n",
    "\n",
    "        dest, source, steps = [int(_) for _ in line.split(\" \")]\n",
    "        if location >= dest and location < dest+steps:\n",
    "            location = location - dest + source\n",
    "\n",
    "    return location"
   ]
  },
  {
   "cell_type": "code",
   "execution_count": 58,
   "id": "bba274a0",
   "metadata": {},
   "outputs": [],
   "source": [
    "def step_2():\n",
    "    i = 0\n",
    "    while True:\n",
    "        origin = moves_rev(i, maps)\n",
    "        for idx_seed in range(len(seeds)//2):\n",
    "            if origin >= seeds[2*idx_seed] and origin < (seeds[2*idx_seed] + seeds[2*idx_seed+1]):\n",
    "                return i\n",
    "        i += 1"
   ]
  },
  {
   "cell_type": "code",
   "execution_count": null,
   "id": "240015c6",
   "metadata": {},
   "outputs": [
    {
     "ename": "KeyboardInterrupt",
     "evalue": "",
     "output_type": "error",
     "traceback": [
      "\u001b[0;31m---------------------------------------------------------------------------\u001b[0m",
      "\u001b[0;31mKeyboardInterrupt\u001b[0m                         Traceback (most recent call last)",
      "Cell \u001b[0;32mIn[59], line 4\u001b[0m\n\u001b[1;32m      1\u001b[0m seeds \u001b[38;5;241m=\u001b[39m [\u001b[38;5;28mint\u001b[39m(seed) \u001b[38;5;28;01mfor\u001b[39;00m seed \u001b[38;5;129;01min\u001b[39;00m data\u001b[38;5;241m.\u001b[39msplit(\u001b[38;5;124m\"\u001b[39m\u001b[38;5;130;01m\\n\u001b[39;00m\u001b[38;5;124m\"\u001b[39m)[\u001b[38;5;241m0\u001b[39m]\u001b[38;5;241m.\u001b[39msplit(\u001b[38;5;124m\"\u001b[39m\u001b[38;5;124m:\u001b[39m\u001b[38;5;124m\"\u001b[39m)[\u001b[38;5;241m1\u001b[39m]\u001b[38;5;241m.\u001b[39mstrip()\u001b[38;5;241m.\u001b[39msplit(\u001b[38;5;124m\"\u001b[39m\u001b[38;5;124m \u001b[39m\u001b[38;5;124m\"\u001b[39m)]\n\u001b[1;32m      2\u001b[0m maps \u001b[38;5;241m=\u001b[39m [line \u001b[38;5;28;01mfor\u001b[39;00m line \u001b[38;5;129;01min\u001b[39;00m data\u001b[38;5;241m.\u001b[39msplit(\u001b[38;5;124m\"\u001b[39m\u001b[38;5;130;01m\\n\u001b[39;00m\u001b[38;5;124m\"\u001b[39m) \u001b[38;5;28;01mif\u001b[39;00m (line \u001b[38;5;241m==\u001b[39m \u001b[38;5;124m\"\u001b[39m\u001b[38;5;124m\"\u001b[39m \u001b[38;5;129;01mor\u001b[39;00m line[\u001b[38;5;241m0\u001b[39m]\u001b[38;5;241m.\u001b[39misdigit())]\n\u001b[0;32m----> 4\u001b[0m \u001b[43mstep_2\u001b[49m\u001b[43m(\u001b[49m\u001b[43m)\u001b[49m\n",
      "Cell \u001b[0;32mIn[58], line 4\u001b[0m, in \u001b[0;36mstep_2\u001b[0;34m()\u001b[0m\n\u001b[1;32m      2\u001b[0m i \u001b[38;5;241m=\u001b[39m \u001b[38;5;241m0\u001b[39m\n\u001b[1;32m      3\u001b[0m \u001b[38;5;28;01mwhile\u001b[39;00m \u001b[38;5;28;01mTrue\u001b[39;00m:\n\u001b[0;32m----> 4\u001b[0m     origin \u001b[38;5;241m=\u001b[39m \u001b[43mmoves_rev\u001b[49m\u001b[43m(\u001b[49m\u001b[43mi\u001b[49m\u001b[43m,\u001b[49m\u001b[43m \u001b[49m\u001b[43mmaps\u001b[49m\u001b[43m)\u001b[49m\n\u001b[1;32m      5\u001b[0m     \u001b[38;5;28;01mfor\u001b[39;00m idx_seed \u001b[38;5;129;01min\u001b[39;00m \u001b[38;5;28mrange\u001b[39m(\u001b[38;5;28mlen\u001b[39m(seeds)\u001b[38;5;241m/\u001b[39m\u001b[38;5;241m/\u001b[39m\u001b[38;5;241m2\u001b[39m):\n\u001b[1;32m      6\u001b[0m         \u001b[38;5;28;01mif\u001b[39;00m origin \u001b[38;5;241m>\u001b[39m\u001b[38;5;241m=\u001b[39m seeds[\u001b[38;5;241m2\u001b[39m\u001b[38;5;241m*\u001b[39midx_seed] \u001b[38;5;129;01mand\u001b[39;00m origin \u001b[38;5;241m<\u001b[39m (seeds[\u001b[38;5;241m2\u001b[39m\u001b[38;5;241m*\u001b[39midx_seed] \u001b[38;5;241m+\u001b[39m seeds[\u001b[38;5;241m2\u001b[39m\u001b[38;5;241m*\u001b[39midx_seed\u001b[38;5;241m+\u001b[39m\u001b[38;5;241m1\u001b[39m]):\n",
      "Cell \u001b[0;32mIn[56], line 13\u001b[0m, in \u001b[0;36mmoves_rev\u001b[0;34m(location, maps)\u001b[0m\n\u001b[1;32m     10\u001b[0m \u001b[38;5;28;01mif\u001b[39;00m next_map:\n\u001b[1;32m     11\u001b[0m     \u001b[38;5;28;01mcontinue\u001b[39;00m\n\u001b[0;32m---> 13\u001b[0m dest, source, steps \u001b[38;5;241m=\u001b[39m [\u001b[38;5;28mint\u001b[39m(_) \u001b[38;5;28;01mfor\u001b[39;00m _ \u001b[38;5;129;01min\u001b[39;00m line\u001b[38;5;241m.\u001b[39msplit(\u001b[38;5;124m\"\u001b[39m\u001b[38;5;124m \u001b[39m\u001b[38;5;124m\"\u001b[39m)]\n\u001b[1;32m     14\u001b[0m \u001b[38;5;28;01mif\u001b[39;00m location \u001b[38;5;241m>\u001b[39m\u001b[38;5;241m=\u001b[39m dest \u001b[38;5;129;01mand\u001b[39;00m location \u001b[38;5;241m<\u001b[39m dest\u001b[38;5;241m+\u001b[39msteps:\n\u001b[1;32m     15\u001b[0m     location \u001b[38;5;241m=\u001b[39m location \u001b[38;5;241m-\u001b[39m dest \u001b[38;5;241m+\u001b[39m source\n",
      "\u001b[0;31mKeyboardInterrupt\u001b[0m: "
     ]
    }
   ],
   "source": [
    "seeds = [int(seed) for seed in data.split(\"\\n\")[0].split(\":\")[1].strip().split(\" \")]\n",
    "maps = [line for line in data.split(\"\\n\") if (line == \"\" or line[0].isdigit())]\n",
    "\n",
    "# step_2()"
   ]
  },
  {
   "cell_type": "code",
   "execution_count": null,
   "id": "716c2ddc",
   "metadata": {},
   "outputs": [],
   "source": []
  }
 ],
 "metadata": {
  "kernelspec": {
   "display_name": "env_perso",
   "language": "python",
   "name": "python3"
  },
  "language_info": {
   "codemirror_mode": {
    "name": "ipython",
    "version": 3
   },
   "file_extension": ".py",
   "mimetype": "text/x-python",
   "name": "python",
   "nbconvert_exporter": "python",
   "pygments_lexer": "ipython3",
   "version": "3.10.6"
  }
 },
 "nbformat": 4,
 "nbformat_minor": 5
}
